{
  "nbformat": 4,
  "nbformat_minor": 0,
  "metadata": {
    "colab": {
      "provenance": [],
      "collapsed_sections": [
        "lHBkhKgeN3F5"
      ]
    },
    "kernelspec": {
      "name": "python3",
      "display_name": "Python 3"
    },
    "language_info": {
      "name": "python"
    }
  },
  "cells": [
    {
      "cell_type": "code",
      "execution_count": null,
      "metadata": {
        "id": "T-n-ZcnuYR7U"
      },
      "outputs": [],
      "source": [
        "import numpy as np\n",
        "import pandas as pd\n",
        "import matplotlib\n",
        "import seaborn as sns\n",
        "import sklearn\n",
        "import matplotlib.pyplot as plt\n",
        "import time\n",
        "import os\n",
        "import sklearn.metrics as m\n",
        "from glob import glob\n",
        "import pickle\n",
        "\n",
        "from sklearn.preprocessing import StandardScaler\n",
        "from sklearn import tree\n",
        "from sklearn import svm\n",
        "from sklearn.linear_model import LogisticRegression\n",
        "from sklearn.ensemble import RandomForestClassifier, AdaBoostClassifier\n",
        "from sklearn.tree import DecisionTreeClassifier\n",
        "from sklearn.neighbors import KNeighborsClassifier\n",
        "from sklearn.ensemble import GradientBoostingClassifier,VotingClassifier\n",
        "from sklearn import metrics\n",
        "from sklearn.metrics import accuracy_score\n",
        "from sklearn.metrics import classification_report\n",
        "from sklearn.metrics import confusion_matrix\n",
        "from sklearn.model_selection import KFold, cross_val_score, train_test_split\n",
        "from xgboost import XGBClassifier\n",
        "from lightgbm import LGBMClassifier"
      ]
    },
    {
      "cell_type": "code",
      "source": [
        "# Google Drive Mount\n",
        "from google.colab import drive\n",
        "drive.mount('/content/drive')\n",
        "%cd /content/drive/MyDrive/'Hybrid NIA New'/csv\n",
        "%ls"
      ],
      "metadata": {
        "colab": {
          "base_uri": "https://localhost:8080/"
        },
        "id": "APCe0n0eYVbf",
        "outputId": "530a4c09-98c7-4b7d-ec58-ba2f22717166"
      },
      "execution_count": null,
      "outputs": [
        {
          "output_type": "stream",
          "name": "stdout",
          "text": [
            "Mounted at /content/drive\n",
            "/content/drive/MyDrive/Hybrid NIA New/csv\n",
            " ai4i2020.csv                      'Indian Liver Patient Dataset (ILPD).csv'\n",
            "'breast cancer (1).gsheet'          Iris.csv\n",
            "'breast cancer.csv'                 lung-cancer.csv\n",
            "'breast cancer.gsheet'              lung_cancer.gsheet\n",
            " CTG.csv                           \u001b[0m\u001b[01;34m'ozone level'\u001b[0m/\n",
            "'Dataset LInk and Details.gsheet'   Phishing.csv\n",
            " diabetes.csv                       risk_factors_cervical_cancer.csv\n",
            " diabetes.gsheet                    soil_data.csv\n",
            "\u001b[01;34m'fashion mnist'\u001b[0m/                    SPECT.csv\n",
            " Heart_processed_cleveland.csv\n"
          ]
        }
      ]
    },
    {
      "cell_type": "code",
      "source": [
        "df= pd.read_csv('breast cancer.csv')"
      ],
      "metadata": {
        "id": "A7e_z0NbYaUQ"
      },
      "execution_count": null,
      "outputs": []
    },
    {
      "cell_type": "code",
      "source": [
        "df.head()"
      ],
      "metadata": {
        "colab": {
          "base_uri": "https://localhost:8080/",
          "height": 317
        },
        "id": "cb_aKgqnYw82",
        "outputId": "9f2703fa-eb8d-47c0-f564-c8aa3751430f"
      },
      "execution_count": null,
      "outputs": [
        {
          "output_type": "execute_result",
          "data": {
            "text/plain": [
              "         id  radius_mean  texture_mean  perimeter_mean  area_mean  \\\n",
              "0    842302        17.99         10.38          122.80     1001.0   \n",
              "1    842517        20.57         17.77          132.90     1326.0   \n",
              "2  84300903        19.69         21.25          130.00     1203.0   \n",
              "3  84348301        11.42         20.38           77.58      386.1   \n",
              "4  84358402        20.29         14.34          135.10     1297.0   \n",
              "\n",
              "   smoothness_mean  compactness_mean  concavity_mean  concave points_mean  \\\n",
              "0          0.11840           0.27760          0.3001              0.14710   \n",
              "1          0.08474           0.07864          0.0869              0.07017   \n",
              "2          0.10960           0.15990          0.1974              0.12790   \n",
              "3          0.14250           0.28390          0.2414              0.10520   \n",
              "4          0.10030           0.13280          0.1980              0.10430   \n",
              "\n",
              "   symmetry_mean  ...  texture_worst  perimeter_worst  area_worst  \\\n",
              "0         0.2419  ...          17.33           184.60      2019.0   \n",
              "1         0.1812  ...          23.41           158.80      1956.0   \n",
              "2         0.2069  ...          25.53           152.50      1709.0   \n",
              "3         0.2597  ...          26.50            98.87       567.7   \n",
              "4         0.1809  ...          16.67           152.20      1575.0   \n",
              "\n",
              "   smoothness_worst  compactness_worst  concavity_worst  concave points_worst  \\\n",
              "0            0.1622             0.6656           0.7119                0.2654   \n",
              "1            0.1238             0.1866           0.2416                0.1860   \n",
              "2            0.1444             0.4245           0.4504                0.2430   \n",
              "3            0.2098             0.8663           0.6869                0.2575   \n",
              "4            0.1374             0.2050           0.4000                0.1625   \n",
              "\n",
              "   symmetry_worst  fractal_dimension_worst  diagnosis  \n",
              "0          0.4601                  0.11890          M  \n",
              "1          0.2750                  0.08902          M  \n",
              "2          0.3613                  0.08758          M  \n",
              "3          0.6638                  0.17300          M  \n",
              "4          0.2364                  0.07678          M  \n",
              "\n",
              "[5 rows x 32 columns]"
            ],
            "text/html": [
              "\n",
              "\n",
              "  <div id=\"df-e7739c43-ed51-46e8-a4c8-910953bdd367\">\n",
              "    <div class=\"colab-df-container\">\n",
              "      <div>\n",
              "<style scoped>\n",
              "    .dataframe tbody tr th:only-of-type {\n",
              "        vertical-align: middle;\n",
              "    }\n",
              "\n",
              "    .dataframe tbody tr th {\n",
              "        vertical-align: top;\n",
              "    }\n",
              "\n",
              "    .dataframe thead th {\n",
              "        text-align: right;\n",
              "    }\n",
              "</style>\n",
              "<table border=\"1\" class=\"dataframe\">\n",
              "  <thead>\n",
              "    <tr style=\"text-align: right;\">\n",
              "      <th></th>\n",
              "      <th>id</th>\n",
              "      <th>radius_mean</th>\n",
              "      <th>texture_mean</th>\n",
              "      <th>perimeter_mean</th>\n",
              "      <th>area_mean</th>\n",
              "      <th>smoothness_mean</th>\n",
              "      <th>compactness_mean</th>\n",
              "      <th>concavity_mean</th>\n",
              "      <th>concave points_mean</th>\n",
              "      <th>symmetry_mean</th>\n",
              "      <th>...</th>\n",
              "      <th>texture_worst</th>\n",
              "      <th>perimeter_worst</th>\n",
              "      <th>area_worst</th>\n",
              "      <th>smoothness_worst</th>\n",
              "      <th>compactness_worst</th>\n",
              "      <th>concavity_worst</th>\n",
              "      <th>concave points_worst</th>\n",
              "      <th>symmetry_worst</th>\n",
              "      <th>fractal_dimension_worst</th>\n",
              "      <th>diagnosis</th>\n",
              "    </tr>\n",
              "  </thead>\n",
              "  <tbody>\n",
              "    <tr>\n",
              "      <th>0</th>\n",
              "      <td>842302</td>\n",
              "      <td>17.99</td>\n",
              "      <td>10.38</td>\n",
              "      <td>122.80</td>\n",
              "      <td>1001.0</td>\n",
              "      <td>0.11840</td>\n",
              "      <td>0.27760</td>\n",
              "      <td>0.3001</td>\n",
              "      <td>0.14710</td>\n",
              "      <td>0.2419</td>\n",
              "      <td>...</td>\n",
              "      <td>17.33</td>\n",
              "      <td>184.60</td>\n",
              "      <td>2019.0</td>\n",
              "      <td>0.1622</td>\n",
              "      <td>0.6656</td>\n",
              "      <td>0.7119</td>\n",
              "      <td>0.2654</td>\n",
              "      <td>0.4601</td>\n",
              "      <td>0.11890</td>\n",
              "      <td>M</td>\n",
              "    </tr>\n",
              "    <tr>\n",
              "      <th>1</th>\n",
              "      <td>842517</td>\n",
              "      <td>20.57</td>\n",
              "      <td>17.77</td>\n",
              "      <td>132.90</td>\n",
              "      <td>1326.0</td>\n",
              "      <td>0.08474</td>\n",
              "      <td>0.07864</td>\n",
              "      <td>0.0869</td>\n",
              "      <td>0.07017</td>\n",
              "      <td>0.1812</td>\n",
              "      <td>...</td>\n",
              "      <td>23.41</td>\n",
              "      <td>158.80</td>\n",
              "      <td>1956.0</td>\n",
              "      <td>0.1238</td>\n",
              "      <td>0.1866</td>\n",
              "      <td>0.2416</td>\n",
              "      <td>0.1860</td>\n",
              "      <td>0.2750</td>\n",
              "      <td>0.08902</td>\n",
              "      <td>M</td>\n",
              "    </tr>\n",
              "    <tr>\n",
              "      <th>2</th>\n",
              "      <td>84300903</td>\n",
              "      <td>19.69</td>\n",
              "      <td>21.25</td>\n",
              "      <td>130.00</td>\n",
              "      <td>1203.0</td>\n",
              "      <td>0.10960</td>\n",
              "      <td>0.15990</td>\n",
              "      <td>0.1974</td>\n",
              "      <td>0.12790</td>\n",
              "      <td>0.2069</td>\n",
              "      <td>...</td>\n",
              "      <td>25.53</td>\n",
              "      <td>152.50</td>\n",
              "      <td>1709.0</td>\n",
              "      <td>0.1444</td>\n",
              "      <td>0.4245</td>\n",
              "      <td>0.4504</td>\n",
              "      <td>0.2430</td>\n",
              "      <td>0.3613</td>\n",
              "      <td>0.08758</td>\n",
              "      <td>M</td>\n",
              "    </tr>\n",
              "    <tr>\n",
              "      <th>3</th>\n",
              "      <td>84348301</td>\n",
              "      <td>11.42</td>\n",
              "      <td>20.38</td>\n",
              "      <td>77.58</td>\n",
              "      <td>386.1</td>\n",
              "      <td>0.14250</td>\n",
              "      <td>0.28390</td>\n",
              "      <td>0.2414</td>\n",
              "      <td>0.10520</td>\n",
              "      <td>0.2597</td>\n",
              "      <td>...</td>\n",
              "      <td>26.50</td>\n",
              "      <td>98.87</td>\n",
              "      <td>567.7</td>\n",
              "      <td>0.2098</td>\n",
              "      <td>0.8663</td>\n",
              "      <td>0.6869</td>\n",
              "      <td>0.2575</td>\n",
              "      <td>0.6638</td>\n",
              "      <td>0.17300</td>\n",
              "      <td>M</td>\n",
              "    </tr>\n",
              "    <tr>\n",
              "      <th>4</th>\n",
              "      <td>84358402</td>\n",
              "      <td>20.29</td>\n",
              "      <td>14.34</td>\n",
              "      <td>135.10</td>\n",
              "      <td>1297.0</td>\n",
              "      <td>0.10030</td>\n",
              "      <td>0.13280</td>\n",
              "      <td>0.1980</td>\n",
              "      <td>0.10430</td>\n",
              "      <td>0.1809</td>\n",
              "      <td>...</td>\n",
              "      <td>16.67</td>\n",
              "      <td>152.20</td>\n",
              "      <td>1575.0</td>\n",
              "      <td>0.1374</td>\n",
              "      <td>0.2050</td>\n",
              "      <td>0.4000</td>\n",
              "      <td>0.1625</td>\n",
              "      <td>0.2364</td>\n",
              "      <td>0.07678</td>\n",
              "      <td>M</td>\n",
              "    </tr>\n",
              "  </tbody>\n",
              "</table>\n",
              "<p>5 rows × 32 columns</p>\n",
              "</div>\n",
              "      <button class=\"colab-df-convert\" onclick=\"convertToInteractive('df-e7739c43-ed51-46e8-a4c8-910953bdd367')\"\n",
              "              title=\"Convert this dataframe to an interactive table.\"\n",
              "              style=\"display:none;\">\n",
              "\n",
              "  <svg xmlns=\"http://www.w3.org/2000/svg\" height=\"24px\"viewBox=\"0 0 24 24\"\n",
              "       width=\"24px\">\n",
              "    <path d=\"M0 0h24v24H0V0z\" fill=\"none\"/>\n",
              "    <path d=\"M18.56 5.44l.94 2.06.94-2.06 2.06-.94-2.06-.94-.94-2.06-.94 2.06-2.06.94zm-11 1L8.5 8.5l.94-2.06 2.06-.94-2.06-.94L8.5 2.5l-.94 2.06-2.06.94zm10 10l.94 2.06.94-2.06 2.06-.94-2.06-.94-.94-2.06-.94 2.06-2.06.94z\"/><path d=\"M17.41 7.96l-1.37-1.37c-.4-.4-.92-.59-1.43-.59-.52 0-1.04.2-1.43.59L10.3 9.45l-7.72 7.72c-.78.78-.78 2.05 0 2.83L4 21.41c.39.39.9.59 1.41.59.51 0 1.02-.2 1.41-.59l7.78-7.78 2.81-2.81c.8-.78.8-2.07 0-2.86zM5.41 20L4 18.59l7.72-7.72 1.47 1.35L5.41 20z\"/>\n",
              "  </svg>\n",
              "      </button>\n",
              "\n",
              "\n",
              "\n",
              "    <div id=\"df-b6c0fca5-7e69-46b3-90f9-fc590af5b511\">\n",
              "      <button class=\"colab-df-quickchart\" onclick=\"quickchart('df-b6c0fca5-7e69-46b3-90f9-fc590af5b511')\"\n",
              "              title=\"Suggest charts.\"\n",
              "              style=\"display:none;\">\n",
              "\n",
              "<svg xmlns=\"http://www.w3.org/2000/svg\" height=\"24px\"viewBox=\"0 0 24 24\"\n",
              "     width=\"24px\">\n",
              "    <g>\n",
              "        <path d=\"M19 3H5c-1.1 0-2 .9-2 2v14c0 1.1.9 2 2 2h14c1.1 0 2-.9 2-2V5c0-1.1-.9-2-2-2zM9 17H7v-7h2v7zm4 0h-2V7h2v10zm4 0h-2v-4h2v4z\"/>\n",
              "    </g>\n",
              "</svg>\n",
              "      </button>\n",
              "    </div>\n",
              "\n",
              "<style>\n",
              "  .colab-df-quickchart {\n",
              "    background-color: #E8F0FE;\n",
              "    border: none;\n",
              "    border-radius: 50%;\n",
              "    cursor: pointer;\n",
              "    display: none;\n",
              "    fill: #1967D2;\n",
              "    height: 32px;\n",
              "    padding: 0 0 0 0;\n",
              "    width: 32px;\n",
              "  }\n",
              "\n",
              "  .colab-df-quickchart:hover {\n",
              "    background-color: #E2EBFA;\n",
              "    box-shadow: 0px 1px 2px rgba(60, 64, 67, 0.3), 0px 1px 3px 1px rgba(60, 64, 67, 0.15);\n",
              "    fill: #174EA6;\n",
              "  }\n",
              "\n",
              "  [theme=dark] .colab-df-quickchart {\n",
              "    background-color: #3B4455;\n",
              "    fill: #D2E3FC;\n",
              "  }\n",
              "\n",
              "  [theme=dark] .colab-df-quickchart:hover {\n",
              "    background-color: #434B5C;\n",
              "    box-shadow: 0px 1px 3px 1px rgba(0, 0, 0, 0.15);\n",
              "    filter: drop-shadow(0px 1px 2px rgba(0, 0, 0, 0.3));\n",
              "    fill: #FFFFFF;\n",
              "  }\n",
              "</style>\n",
              "\n",
              "    <script>\n",
              "      async function quickchart(key) {\n",
              "        const containerElement = document.querySelector('#' + key);\n",
              "        const charts = await google.colab.kernel.invokeFunction(\n",
              "            'suggestCharts', [key], {});\n",
              "      }\n",
              "    </script>\n",
              "\n",
              "      <script>\n",
              "\n",
              "function displayQuickchartButton(domScope) {\n",
              "  let quickchartButtonEl =\n",
              "    domScope.querySelector('#df-b6c0fca5-7e69-46b3-90f9-fc590af5b511 button.colab-df-quickchart');\n",
              "  quickchartButtonEl.style.display =\n",
              "    google.colab.kernel.accessAllowed ? 'block' : 'none';\n",
              "}\n",
              "\n",
              "        displayQuickchartButton(document);\n",
              "      </script>\n",
              "      <style>\n",
              "    .colab-df-container {\n",
              "      display:flex;\n",
              "      flex-wrap:wrap;\n",
              "      gap: 12px;\n",
              "    }\n",
              "\n",
              "    .colab-df-convert {\n",
              "      background-color: #E8F0FE;\n",
              "      border: none;\n",
              "      border-radius: 50%;\n",
              "      cursor: pointer;\n",
              "      display: none;\n",
              "      fill: #1967D2;\n",
              "      height: 32px;\n",
              "      padding: 0 0 0 0;\n",
              "      width: 32px;\n",
              "    }\n",
              "\n",
              "    .colab-df-convert:hover {\n",
              "      background-color: #E2EBFA;\n",
              "      box-shadow: 0px 1px 2px rgba(60, 64, 67, 0.3), 0px 1px 3px 1px rgba(60, 64, 67, 0.15);\n",
              "      fill: #174EA6;\n",
              "    }\n",
              "\n",
              "    [theme=dark] .colab-df-convert {\n",
              "      background-color: #3B4455;\n",
              "      fill: #D2E3FC;\n",
              "    }\n",
              "\n",
              "    [theme=dark] .colab-df-convert:hover {\n",
              "      background-color: #434B5C;\n",
              "      box-shadow: 0px 1px 3px 1px rgba(0, 0, 0, 0.15);\n",
              "      filter: drop-shadow(0px 1px 2px rgba(0, 0, 0, 0.3));\n",
              "      fill: #FFFFFF;\n",
              "    }\n",
              "  </style>\n",
              "\n",
              "      <script>\n",
              "        const buttonEl =\n",
              "          document.querySelector('#df-e7739c43-ed51-46e8-a4c8-910953bdd367 button.colab-df-convert');\n",
              "        buttonEl.style.display =\n",
              "          google.colab.kernel.accessAllowed ? 'block' : 'none';\n",
              "\n",
              "        async function convertToInteractive(key) {\n",
              "          const element = document.querySelector('#df-e7739c43-ed51-46e8-a4c8-910953bdd367');\n",
              "          const dataTable =\n",
              "            await google.colab.kernel.invokeFunction('convertToInteractive',\n",
              "                                                     [key], {});\n",
              "          if (!dataTable) return;\n",
              "\n",
              "          const docLinkHtml = 'Like what you see? Visit the ' +\n",
              "            '<a target=\"_blank\" href=https://colab.research.google.com/notebooks/data_table.ipynb>data table notebook</a>'\n",
              "            + ' to learn more about interactive tables.';\n",
              "          element.innerHTML = '';\n",
              "          dataTable['output_type'] = 'display_data';\n",
              "          await google.colab.output.renderOutput(dataTable, element);\n",
              "          const docLink = document.createElement('div');\n",
              "          docLink.innerHTML = docLinkHtml;\n",
              "          element.appendChild(docLink);\n",
              "        }\n",
              "      </script>\n",
              "    </div>\n",
              "  </div>\n"
            ]
          },
          "metadata": {},
          "execution_count": 4
        }
      ]
    },
    {
      "cell_type": "code",
      "source": [
        "y = df.loc[:,'diagnosis']\n",
        "X = df.drop(['diagnosis'], axis=1)\n",
        "feat =np.asarray(X)\n",
        "label = np.asarray(y)"
      ],
      "metadata": {
        "id": "ZJw1CJ3AYy3h"
      },
      "execution_count": null,
      "outputs": []
    },
    {
      "cell_type": "code",
      "source": [
        "from sklearn import preprocessing\n",
        "le = preprocessing.LabelEncoder()\n",
        "le.fit(y)\n"
      ],
      "metadata": {
        "colab": {
          "base_uri": "https://localhost:8080/",
          "height": 75
        },
        "id": "ukzCaPvhTn2b",
        "outputId": "443a617b-6894-46e6-cd36-2feb1eeb9a1a"
      },
      "execution_count": null,
      "outputs": [
        {
          "output_type": "execute_result",
          "data": {
            "text/plain": [
              "LabelEncoder()"
            ],
            "text/html": [
              "<style>#sk-container-id-1 {color: black;background-color: white;}#sk-container-id-1 pre{padding: 0;}#sk-container-id-1 div.sk-toggleable {background-color: white;}#sk-container-id-1 label.sk-toggleable__label {cursor: pointer;display: block;width: 100%;margin-bottom: 0;padding: 0.3em;box-sizing: border-box;text-align: center;}#sk-container-id-1 label.sk-toggleable__label-arrow:before {content: \"▸\";float: left;margin-right: 0.25em;color: #696969;}#sk-container-id-1 label.sk-toggleable__label-arrow:hover:before {color: black;}#sk-container-id-1 div.sk-estimator:hover label.sk-toggleable__label-arrow:before {color: black;}#sk-container-id-1 div.sk-toggleable__content {max-height: 0;max-width: 0;overflow: hidden;text-align: left;background-color: #f0f8ff;}#sk-container-id-1 div.sk-toggleable__content pre {margin: 0.2em;color: black;border-radius: 0.25em;background-color: #f0f8ff;}#sk-container-id-1 input.sk-toggleable__control:checked~div.sk-toggleable__content {max-height: 200px;max-width: 100%;overflow: auto;}#sk-container-id-1 input.sk-toggleable__control:checked~label.sk-toggleable__label-arrow:before {content: \"▾\";}#sk-container-id-1 div.sk-estimator input.sk-toggleable__control:checked~label.sk-toggleable__label {background-color: #d4ebff;}#sk-container-id-1 div.sk-label input.sk-toggleable__control:checked~label.sk-toggleable__label {background-color: #d4ebff;}#sk-container-id-1 input.sk-hidden--visually {border: 0;clip: rect(1px 1px 1px 1px);clip: rect(1px, 1px, 1px, 1px);height: 1px;margin: -1px;overflow: hidden;padding: 0;position: absolute;width: 1px;}#sk-container-id-1 div.sk-estimator {font-family: monospace;background-color: #f0f8ff;border: 1px dotted black;border-radius: 0.25em;box-sizing: border-box;margin-bottom: 0.5em;}#sk-container-id-1 div.sk-estimator:hover {background-color: #d4ebff;}#sk-container-id-1 div.sk-parallel-item::after {content: \"\";width: 100%;border-bottom: 1px solid gray;flex-grow: 1;}#sk-container-id-1 div.sk-label:hover label.sk-toggleable__label {background-color: #d4ebff;}#sk-container-id-1 div.sk-serial::before {content: \"\";position: absolute;border-left: 1px solid gray;box-sizing: border-box;top: 0;bottom: 0;left: 50%;z-index: 0;}#sk-container-id-1 div.sk-serial {display: flex;flex-direction: column;align-items: center;background-color: white;padding-right: 0.2em;padding-left: 0.2em;position: relative;}#sk-container-id-1 div.sk-item {position: relative;z-index: 1;}#sk-container-id-1 div.sk-parallel {display: flex;align-items: stretch;justify-content: center;background-color: white;position: relative;}#sk-container-id-1 div.sk-item::before, #sk-container-id-1 div.sk-parallel-item::before {content: \"\";position: absolute;border-left: 1px solid gray;box-sizing: border-box;top: 0;bottom: 0;left: 50%;z-index: -1;}#sk-container-id-1 div.sk-parallel-item {display: flex;flex-direction: column;z-index: 1;position: relative;background-color: white;}#sk-container-id-1 div.sk-parallel-item:first-child::after {align-self: flex-end;width: 50%;}#sk-container-id-1 div.sk-parallel-item:last-child::after {align-self: flex-start;width: 50%;}#sk-container-id-1 div.sk-parallel-item:only-child::after {width: 0;}#sk-container-id-1 div.sk-dashed-wrapped {border: 1px dashed gray;margin: 0 0.4em 0.5em 0.4em;box-sizing: border-box;padding-bottom: 0.4em;background-color: white;}#sk-container-id-1 div.sk-label label {font-family: monospace;font-weight: bold;display: inline-block;line-height: 1.2em;}#sk-container-id-1 div.sk-label-container {text-align: center;}#sk-container-id-1 div.sk-container {/* jupyter's `normalize.less` sets `[hidden] { display: none; }` but bootstrap.min.css set `[hidden] { display: none !important; }` so we also need the `!important` here to be able to override the default hidden behavior on the sphinx rendered scikit-learn.org. See: https://github.com/scikit-learn/scikit-learn/issues/21755 */display: inline-block !important;position: relative;}#sk-container-id-1 div.sk-text-repr-fallback {display: none;}</style><div id=\"sk-container-id-1\" class=\"sk-top-container\"><div class=\"sk-text-repr-fallback\"><pre>LabelEncoder()</pre><b>In a Jupyter environment, please rerun this cell to show the HTML representation or trust the notebook. <br />On GitHub, the HTML representation is unable to render, please try loading this page with nbviewer.org.</b></div><div class=\"sk-container\" hidden><div class=\"sk-item\"><div class=\"sk-estimator sk-toggleable\"><input class=\"sk-toggleable__control sk-hidden--visually\" id=\"sk-estimator-id-1\" type=\"checkbox\" checked><label for=\"sk-estimator-id-1\" class=\"sk-toggleable__label sk-toggleable__label-arrow\">LabelEncoder</label><div class=\"sk-toggleable__content\"><pre>LabelEncoder()</pre></div></div></div></div></div>"
            ]
          },
          "metadata": {},
          "execution_count": 6
        }
      ]
    },
    {
      "cell_type": "code",
      "source": [
        "le.classes_"
      ],
      "metadata": {
        "colab": {
          "base_uri": "https://localhost:8080/"
        },
        "id": "62vbK5OOT_kQ",
        "outputId": "eecbb14e-8861-4994-d5c3-a78463645281"
      },
      "execution_count": null,
      "outputs": [
        {
          "output_type": "execute_result",
          "data": {
            "text/plain": [
              "array(['B', 'M'], dtype=object)"
            ]
          },
          "metadata": {},
          "execution_count": 7
        }
      ]
    },
    {
      "cell_type": "code",
      "source": [
        "y=le.transform(y)"
      ],
      "metadata": {
        "id": "fO7JxV11UDfA"
      },
      "execution_count": null,
      "outputs": []
    },
    {
      "cell_type": "code",
      "source": [
        "X_train,X_test,Y_train,Y_test = train_test_split(X,y,train_size=0.80, random_state=41)\n",
        "print(X_train.shape)\n",
        "print(X_test.shape)"
      ],
      "metadata": {
        "colab": {
          "base_uri": "https://localhost:8080/"
        },
        "id": "RVqdpEDXY2zY",
        "outputId": "b6bae7c6-7a1d-40f4-f46d-0b97b9c83910"
      },
      "execution_count": null,
      "outputs": [
        {
          "output_type": "stream",
          "name": "stdout",
          "text": [
            "(455, 31)\n",
            "(114, 31)\n"
          ]
        }
      ]
    },
    {
      "cell_type": "code",
      "source": [
        "LG_Classifier = XGBClassifier()\n",
        "LG_Classifier.fit(X_train, Y_train)"
      ],
      "metadata": {
        "id": "y9Cci0rZZDIG",
        "colab": {
          "base_uri": "https://localhost:8080/",
          "height": 248
        },
        "outputId": "1c3f103a-5d35-420b-e501-735106f5c5cf"
      },
      "execution_count": null,
      "outputs": [
        {
          "output_type": "execute_result",
          "data": {
            "text/plain": [
              "XGBClassifier(base_score=None, booster=None, callbacks=None,\n",
              "              colsample_bylevel=None, colsample_bynode=None,\n",
              "              colsample_bytree=None, early_stopping_rounds=None,\n",
              "              enable_categorical=False, eval_metric=None, feature_types=None,\n",
              "              gamma=None, gpu_id=None, grow_policy=None, importance_type=None,\n",
              "              interaction_constraints=None, learning_rate=None, max_bin=None,\n",
              "              max_cat_threshold=None, max_cat_to_onehot=None,\n",
              "              max_delta_step=None, max_depth=None, max_leaves=None,\n",
              "              min_child_weight=None, missing=nan, monotone_constraints=None,\n",
              "              n_estimators=100, n_jobs=None, num_parallel_tree=None,\n",
              "              predictor=None, random_state=None, ...)"
            ],
            "text/html": [
              "<style>#sk-container-id-2 {color: black;background-color: white;}#sk-container-id-2 pre{padding: 0;}#sk-container-id-2 div.sk-toggleable {background-color: white;}#sk-container-id-2 label.sk-toggleable__label {cursor: pointer;display: block;width: 100%;margin-bottom: 0;padding: 0.3em;box-sizing: border-box;text-align: center;}#sk-container-id-2 label.sk-toggleable__label-arrow:before {content: \"▸\";float: left;margin-right: 0.25em;color: #696969;}#sk-container-id-2 label.sk-toggleable__label-arrow:hover:before {color: black;}#sk-container-id-2 div.sk-estimator:hover label.sk-toggleable__label-arrow:before {color: black;}#sk-container-id-2 div.sk-toggleable__content {max-height: 0;max-width: 0;overflow: hidden;text-align: left;background-color: #f0f8ff;}#sk-container-id-2 div.sk-toggleable__content pre {margin: 0.2em;color: black;border-radius: 0.25em;background-color: #f0f8ff;}#sk-container-id-2 input.sk-toggleable__control:checked~div.sk-toggleable__content {max-height: 200px;max-width: 100%;overflow: auto;}#sk-container-id-2 input.sk-toggleable__control:checked~label.sk-toggleable__label-arrow:before {content: \"▾\";}#sk-container-id-2 div.sk-estimator input.sk-toggleable__control:checked~label.sk-toggleable__label {background-color: #d4ebff;}#sk-container-id-2 div.sk-label input.sk-toggleable__control:checked~label.sk-toggleable__label {background-color: #d4ebff;}#sk-container-id-2 input.sk-hidden--visually {border: 0;clip: rect(1px 1px 1px 1px);clip: rect(1px, 1px, 1px, 1px);height: 1px;margin: -1px;overflow: hidden;padding: 0;position: absolute;width: 1px;}#sk-container-id-2 div.sk-estimator {font-family: monospace;background-color: #f0f8ff;border: 1px dotted black;border-radius: 0.25em;box-sizing: border-box;margin-bottom: 0.5em;}#sk-container-id-2 div.sk-estimator:hover {background-color: #d4ebff;}#sk-container-id-2 div.sk-parallel-item::after {content: \"\";width: 100%;border-bottom: 1px solid gray;flex-grow: 1;}#sk-container-id-2 div.sk-label:hover label.sk-toggleable__label {background-color: #d4ebff;}#sk-container-id-2 div.sk-serial::before {content: \"\";position: absolute;border-left: 1px solid gray;box-sizing: border-box;top: 0;bottom: 0;left: 50%;z-index: 0;}#sk-container-id-2 div.sk-serial {display: flex;flex-direction: column;align-items: center;background-color: white;padding-right: 0.2em;padding-left: 0.2em;position: relative;}#sk-container-id-2 div.sk-item {position: relative;z-index: 1;}#sk-container-id-2 div.sk-parallel {display: flex;align-items: stretch;justify-content: center;background-color: white;position: relative;}#sk-container-id-2 div.sk-item::before, #sk-container-id-2 div.sk-parallel-item::before {content: \"\";position: absolute;border-left: 1px solid gray;box-sizing: border-box;top: 0;bottom: 0;left: 50%;z-index: -1;}#sk-container-id-2 div.sk-parallel-item {display: flex;flex-direction: column;z-index: 1;position: relative;background-color: white;}#sk-container-id-2 div.sk-parallel-item:first-child::after {align-self: flex-end;width: 50%;}#sk-container-id-2 div.sk-parallel-item:last-child::after {align-self: flex-start;width: 50%;}#sk-container-id-2 div.sk-parallel-item:only-child::after {width: 0;}#sk-container-id-2 div.sk-dashed-wrapped {border: 1px dashed gray;margin: 0 0.4em 0.5em 0.4em;box-sizing: border-box;padding-bottom: 0.4em;background-color: white;}#sk-container-id-2 div.sk-label label {font-family: monospace;font-weight: bold;display: inline-block;line-height: 1.2em;}#sk-container-id-2 div.sk-label-container {text-align: center;}#sk-container-id-2 div.sk-container {/* jupyter's `normalize.less` sets `[hidden] { display: none; }` but bootstrap.min.css set `[hidden] { display: none !important; }` so we also need the `!important` here to be able to override the default hidden behavior on the sphinx rendered scikit-learn.org. See: https://github.com/scikit-learn/scikit-learn/issues/21755 */display: inline-block !important;position: relative;}#sk-container-id-2 div.sk-text-repr-fallback {display: none;}</style><div id=\"sk-container-id-2\" class=\"sk-top-container\"><div class=\"sk-text-repr-fallback\"><pre>XGBClassifier(base_score=None, booster=None, callbacks=None,\n",
              "              colsample_bylevel=None, colsample_bynode=None,\n",
              "              colsample_bytree=None, early_stopping_rounds=None,\n",
              "              enable_categorical=False, eval_metric=None, feature_types=None,\n",
              "              gamma=None, gpu_id=None, grow_policy=None, importance_type=None,\n",
              "              interaction_constraints=None, learning_rate=None, max_bin=None,\n",
              "              max_cat_threshold=None, max_cat_to_onehot=None,\n",
              "              max_delta_step=None, max_depth=None, max_leaves=None,\n",
              "              min_child_weight=None, missing=nan, monotone_constraints=None,\n",
              "              n_estimators=100, n_jobs=None, num_parallel_tree=None,\n",
              "              predictor=None, random_state=None, ...)</pre><b>In a Jupyter environment, please rerun this cell to show the HTML representation or trust the notebook. <br />On GitHub, the HTML representation is unable to render, please try loading this page with nbviewer.org.</b></div><div class=\"sk-container\" hidden><div class=\"sk-item\"><div class=\"sk-estimator sk-toggleable\"><input class=\"sk-toggleable__control sk-hidden--visually\" id=\"sk-estimator-id-2\" type=\"checkbox\" checked><label for=\"sk-estimator-id-2\" class=\"sk-toggleable__label sk-toggleable__label-arrow\">XGBClassifier</label><div class=\"sk-toggleable__content\"><pre>XGBClassifier(base_score=None, booster=None, callbacks=None,\n",
              "              colsample_bylevel=None, colsample_bynode=None,\n",
              "              colsample_bytree=None, early_stopping_rounds=None,\n",
              "              enable_categorical=False, eval_metric=None, feature_types=None,\n",
              "              gamma=None, gpu_id=None, grow_policy=None, importance_type=None,\n",
              "              interaction_constraints=None, learning_rate=None, max_bin=None,\n",
              "              max_cat_threshold=None, max_cat_to_onehot=None,\n",
              "              max_delta_step=None, max_depth=None, max_leaves=None,\n",
              "              min_child_weight=None, missing=nan, monotone_constraints=None,\n",
              "              n_estimators=100, n_jobs=None, num_parallel_tree=None,\n",
              "              predictor=None, random_state=None, ...)</pre></div></div></div></div></div>"
            ]
          },
          "metadata": {},
          "execution_count": 10
        }
      ]
    },
    {
      "cell_type": "code",
      "source": [
        "print('XGBClassifier')\n",
        "print(accuracy_score(Y_train, LG_Classifier.predict(X_train)))\n",
        "print(accuracy_score(Y_test, LG_Classifier.predict(X_test)))\n",
        "print(\"classification report\")\n",
        "print(classification_report(Y_train, LG_Classifier.predict(X_train)))\n",
        "print(classification_report(Y_test, LG_Classifier.predict(X_test)))"
      ],
      "metadata": {
        "id": "vSf91LBgUnr7",
        "colab": {
          "base_uri": "https://localhost:8080/"
        },
        "outputId": "fee7a0a7-67fe-47ac-e12e-120f591dd288"
      },
      "execution_count": null,
      "outputs": [
        {
          "output_type": "stream",
          "name": "stdout",
          "text": [
            "XGBClassifier\n",
            "1.0\n",
            "0.9736842105263158\n",
            "classification report\n",
            "              precision    recall  f1-score   support\n",
            "\n",
            "           0       1.00      1.00      1.00       283\n",
            "           1       1.00      1.00      1.00       172\n",
            "\n",
            "    accuracy                           1.00       455\n",
            "   macro avg       1.00      1.00      1.00       455\n",
            "weighted avg       1.00      1.00      1.00       455\n",
            "\n",
            "              precision    recall  f1-score   support\n",
            "\n",
            "           0       0.99      0.97      0.98        74\n",
            "           1       0.95      0.97      0.96        40\n",
            "\n",
            "    accuracy                           0.97       114\n",
            "   macro avg       0.97      0.97      0.97       114\n",
            "weighted avg       0.97      0.97      0.97       114\n",
            "\n"
          ]
        }
      ]
    },
    {
      "cell_type": "code",
      "source": [
        "class GA:\n",
        "    def __init__(self, num_features, fitness_function, population_size=10, mutation_rate=0.01, num_generations=100):\n",
        "        self.num_features = num_features\n",
        "        self.fitness_function = fitness_function\n",
        "        self.population_size = population_size\n",
        "        self.mutation_rate = mutation_rate\n",
        "        self.num_generations = num_generations\n",
        "        self.population = None\n",
        "        self.best_fitness = np.inf\n",
        "        self.best_individual = None\n",
        "\n",
        "    def _initialize_population(self):\n",
        "        self.population = [np.random.choice(X_train.columns, size=self.num_features, replace=False)\n",
        "                           for _ in range(self.population_size)]\n",
        "\n",
        "\n",
        "    def _evaluate_fitness(self):\n",
        "        fitness_values = [self.fitness_function(individual) for individual in self.population]\n",
        "        best_index = np.argmin(fitness_values)\n",
        "        if fitness_values[best_index] < self.best_fitness:\n",
        "            self.best_fitness = fitness_values[best_index]\n",
        "            self.best_individual = self.population[best_index]\n",
        "        return fitness_values\n",
        "\n",
        "    def _subset_sorted_array(self,A,B):\n",
        "            Aa = A[np.where(A <= np.max(B))]\n",
        "            Bb = (B[np.searchsorted(B,Aa)] !=  Aa)\n",
        "            Bb = np.pad(Bb,(0,A.shape[0]-Aa.shape[0]), constant_values=True)\n",
        "            return A[Bb]\n",
        "\n",
        "    def _crossover(self, parent1, parent2):\n",
        "        crossover_point = np.random.randint(1, self.num_features - 1)\n",
        "        child1 = np.concatenate([parent1[:crossover_point], parent2[crossover_point:]])\n",
        "        child1_unique= np.unique(child1)\n",
        "        #finding new element\n",
        "        not_in_child1=self._subset_sorted_array(np.array(X_train.columns),child1_unique)\n",
        "        child1[0:child1_unique.shape[0]] = child1_unique\n",
        "        for i in range(child1_unique.shape[0],child1.shape[0]):\n",
        "          child1[i]= np.random.choice(not_in_child1)\n",
        "\n",
        "\n",
        "        child2 = np.concatenate([parent2[:crossover_point], parent1[crossover_point:]])\n",
        "        child2_unique= np.unique(child2)\n",
        "        #finding new element\n",
        "        not_in_child2=self._subset_sorted_array(np.array(X_train.columns),child1_unique)\n",
        "        child2[0:child2_unique.shape[0]] = child2_unique\n",
        "        for i in range(child2_unique.shape[0],child2.shape[0]):\n",
        "          child2[i]= np.random.choice(not_in_child2)\n",
        "\n",
        "        return child1, child2\n",
        "\n",
        "    def _mutate(self, individual):\n",
        "        for i in range(self.num_features):\n",
        "            individual_unique= np.array(np.unique(individual[i]))\n",
        "            #finding new element\n",
        "            not_in_individual= np.delete(np.array(X_train.columns), np.where(np.array(X_train.columns) ==individual[i]))\n",
        "            if np.random.rand() < self.mutation_rate:\n",
        "                individual[i] = np.random.choice(not_in_individual)\n",
        "        return individual\n",
        "\n",
        "    def run(self):\n",
        "        self._initialize_population()\n",
        "        for generation in range(self.num_generations):\n",
        "            print(\"generation: \"+ str(generation))\n",
        "            fitness_values = self._evaluate_fitness()\n",
        "            #print(fitness_values)\n",
        "            fitness_values = np.array(fitness_values)\n",
        "            selection_probabilities = 1 / (fitness_values + 1e-10)\n",
        "            selection_probabilities /= selection_probabilities.sum()\n",
        "            new_population = []\n",
        "            for i in range(self.population_size // 2):\n",
        "                parent1 = self.population[np.random.choice(range(self.population_size), p=selection_probabilities)]\n",
        "                parent2 = self.population[np.random.choice(range(self.population_size), p=selection_probabilities)]\n",
        "                child1, child2 = self._crossover(parent1, parent2)\n",
        "                child1 = self._mutate(child1)\n",
        "                child2 = self._mutate(child2)\n",
        "                new_population.append(child1)\n",
        "                new_population.append(child2)\n",
        "            self.population = new_population\n",
        "        return self.best_individual"
      ],
      "metadata": {
        "id": "evJ8vCO7Y778"
      },
      "execution_count": null,
      "outputs": []
    },
    {
      "cell_type": "code",
      "source": [
        "  class FPA:\n",
        "    def __init__(self, num_features, fitness_function, num_iterations=60, num_flowers=5, p=0.8, beta=1):\n",
        "        self.num_features = num_features\n",
        "        self.fitness_function = fitness_function\n",
        "        self.num_iterations = num_iterations\n",
        "        self.num_flowers = num_flowers\n",
        "        self.p = p\n",
        "        self.beta = beta\n",
        "        self.best_fitness = np.inf\n",
        "        self.best_solution = None\n",
        "\n",
        "    def _initialize_population(self):\n",
        "        self.population = np.random.randint(0, 2, size=(self.num_flowers, self.num_features))\n",
        "\n",
        "    def _evaluate_fitness(self, solution):\n",
        "        fitness_value = self.fitness_function(solution)\n",
        "        if fitness_value < self.best_fitness:\n",
        "            self.best_fitness = fitness_value\n",
        "            self.best_solution = solution\n",
        "        return fitness_value\n",
        "\n",
        "    def _get_displacement_vector(self, current_solution, best_solution):\n",
        "        epsilon = np.random.uniform(-1, 1, size=self.num_features)\n",
        "        distance = np.sqrt(np.sum((current_ solution - best_solution) ** 2))\n",
        "        beta = self.beta\n",
        "        return epsilon * np.exp(-beta * distance)\n",
        "\n",
        "    def _pollinate(self, current_solution):\n",
        "        new_solution = np.copy(current_solution)\n",
        "        for i in range(self.num_features):\n",
        "            if np.random.rand() < self.p:\n",
        "                displacement = self._get_displacement_vector(current_solution, self.best_solution)\n",
        "                new_solution[i] += displacement[i]\n",
        "                new_solution[i] = np.clip(new_solution[i], 0, 1)\n",
        "        return new_solution\n",
        "\n",
        "    def run(self):\n",
        "        self._initialize_population()\n",
        "        for iteration in range(self.num_iterations):\n",
        "            print(\"iteration: \"+str(iteration))\n",
        "            fitness_values = [self._evaluate_fitness(solution) for solution in self.population]\n",
        "            print(np.array(fitness_values).max())\n",
        "            sorted_indices = np.argsort(fitness_values)\n",
        "            elites = self.population[sorted_indices[:int(self.num_flowers * 0.2)]]\n",
        "            new_population = np.copy(self.population)\n",
        "            for i in range(self.num_flowers):\n",
        "                if i < int(self.num_flowers * 0.2):\n",
        "                    new_population[i] = elites[i]\n",
        "                else:\n",
        "                    parent_index = np.random.randint(len(elites))\n",
        "                    parent = elites[parent_index]\n",
        "                    new_solution = self._pollinate(parent)\n",
        "                    new_fitness = self._evaluate_fitness(new_solution)\n",
        "                    if new_fitness < fitness_values[i]:\n",
        "                        new_population[i] = new_solution\n",
        "            self.population = new_population\n",
        "        return self.best_solution"
      ],
      "metadata": {
        "id": "lWGB-Mh1ZASC"
      },
      "execution_count": null,
      "outputs": []
    },
    {
      "cell_type": "code",
      "source": [
        "def ga_feature_selection(X_train, y_train,X_test, y_test, num_features):\n",
        "    # Define fitness function for GA\n",
        "\n",
        "    def subset_sorted_array(A,B):\n",
        "            Aa = A[np.where(A <= np.max(B))]\n",
        "            Bb = (B[np.searchsorted(B,Aa)] !=  Aa)\n",
        "            Bb = np.pad(Bb,(0,A.shape[0]-Aa.shape[0]), constant_values=True)\n",
        "            return A[Bb]\n",
        "    def fitness_function(selected_features):\n",
        "\n",
        "        selected_features_unique= np.unique(selected_features)\n",
        "        #finding new element\n",
        "        # print(selected_features_unique.shape[0])\n",
        "        # if selected_features_unique==0:\n",
        "        #   return 1\n",
        "        # Train XGBoost model using selected_features\n",
        "        LG_Classifier = LGBMClassifier()\n",
        "        LG_Classifier.fit(X_train[selected_features_unique], y_train)\n",
        "        # Return error rate as fitness value\n",
        "        return 1 - accuracy_score(y_test, LG_Classifier.predict(X_test[selected_features_unique]))\n",
        "\n",
        "    # Initialize GA algorithm\n",
        "    ga = GA(num_features=num_features, fitness_function=fitness_function)\n",
        "\n",
        "    # Set initial population to random subsets of size num_features\n",
        "    initial_population = [np.random.choice(X_train.columns, size=num_features, replace=False) for _ in range(10)]\n",
        "    ga.population = initial_population\n",
        "    # Run GA algorithm and return optimal subset of features\n",
        "    return ga.run()\n",
        "\n",
        "# Flower Pollination Algorithm for identifying the optimal number of features\n",
        "def fpa_feature_selection(X_train, y_train,X_test, Y_test):\n",
        "    # Define fitness function for FPA\n",
        "    def fitness_function(num_features):\n",
        "        # Train XGBoost model using num_features\n",
        "        #print(num_features)\n",
        "        num_features = np.where(num_features == 1)[0]\n",
        "\n",
        "        #print(num_features.shape)\n",
        "\n",
        "        selected_features = np.array(X_train)[:,num_features]\n",
        "        LG_Classifier = XGBClassifier()\n",
        "        # print(selected_features.shape)\n",
        "        if selected_features.shape[1]==0 or  selected_features.shape[1]==X_train.shape[1]:\n",
        "          return 1\n",
        "        LG_Classifier.fit(selected_features, y_train)\n",
        "        selected_features_test = np.array(X_test)[:,num_features]\n",
        "        # Return error rate as fitness value\n",
        "        return 1 - accuracy_score(Y_test, LG_Classifier.predict(selected_features_test))\n",
        "\n",
        "    # Initialize FPA algorithm\n",
        "    fpa = FPA( =len(X_train.columns), fitness_function=fitness_function)\n",
        "\n",
        "    # Run FPA algorithm and return optimal number of features\n",
        "    return fpa.run()"
      ],
      "metadata": {
        "id": "3Ks1N-wIZBoS"
      },
      "execution_count": null,
      "outputs": []
    },
    {
      "cell_type": "code",
      "source": [],
      "metadata": {
        "id": "EB8kYhFjfRBc"
      },
      "execution_count": null,
      "outputs": []
    },
    {
      "cell_type": "code",
      "source": [
        "numfs=[]\n",
        "bun=fpa_feature_selection(X_train, Y_train, X_test, Y_test)"
      ],
      "metadata": {
        "id": "2tLcyPYAZcaL",
        "colab": {
          "base_uri": "https://localhost:8080/"
        },
        "outputId": "1b7656f7-409c-484c-9af4-6f73e680d395"
      },
      "execution_count": null,
      "outputs": [
        {
          "output_type": "stream",
          "name": "stdout",
          "text": [
            "iteration: 0\n",
            "0.052631578947368474\n",
            "iteration: 1\n",
            "0.04385964912280704\n",
            "iteration: 2\n",
            "0.01754385964912286\n",
            "iteration: 3\n",
            "0.01754385964912286\n",
            "iteration: 4\n",
            "0.01754385964912286\n",
            "iteration: 5\n",
            "0.01754385964912286\n",
            "iteration: 6\n",
            "0.01754385964912286\n",
            "iteration: 7\n",
            "0.01754385964912286\n",
            "iteration: 8\n",
            "0.01754385964912286\n",
            "iteration: 9\n",
            "0.01754385964912286\n",
            "iteration: 10\n",
            "0.01754385964912286\n",
            "iteration: 11\n",
            "0.01754385964912286\n",
            "iteration: 12\n",
            "0.01754385964912286\n",
            "iteration: 13\n",
            "0.01754385964912286\n",
            "iteration: 14\n",
            "0.01754385964912286\n",
            "iteration: 15\n",
            "0.01754385964912286\n",
            "iteration: 16\n",
            "0.01754385964912286\n",
            "iteration: 17\n",
            "0.01754385964912286\n",
            "iteration: 18\n",
            "0.01754385964912286\n",
            "iteration: 19\n",
            "0.01754385964912286\n",
            "iteration: 20\n",
            "0.01754385964912286\n",
            "iteration: 21\n",
            "0.01754385964912286\n",
            "iteration: 22\n",
            "0.01754385964912286\n",
            "iteration: 23\n",
            "0.01754385964912286\n",
            "iteration: 24\n",
            "0.01754385964912286\n",
            "iteration: 25\n",
            "0.01754385964912286\n",
            "iteration: 26\n",
            "0.01754385964912286\n",
            "iteration: 27\n",
            "0.01754385964912286\n",
            "iteration: 28\n",
            "0.01754385964912286\n",
            "iteration: 29\n",
            "0.01754385964912286\n",
            "iteration: 30\n",
            "0.01754385964912286\n",
            "iteration: 31\n",
            "0.01754385964912286\n",
            "iteration: 32\n",
            "0.01754385964912286\n",
            "iteration: 33\n",
            "0.01754385964912286\n",
            "iteration: 34\n",
            "0.01754385964912286\n",
            "iteration: 35\n",
            "0.01754385964912286\n",
            "iteration: 36\n",
            "0.01754385964912286\n",
            "iteration: 37\n",
            "0.01754385964912286\n",
            "iteration: 38\n",
            "0.01754385964912286\n",
            "iteration: 39\n",
            "0.01754385964912286\n",
            "iteration: 40\n",
            "0.01754385964912286\n",
            "iteration: 41\n",
            "0.01754385964912286\n",
            "iteration: 42\n",
            "0.01754385964912286\n",
            "iteration: 43\n",
            "0.01754385964912286\n",
            "iteration: 44\n",
            "0.01754385964912286\n",
            "iteration: 45\n",
            "0.01754385964912286\n",
            "iteration: 46\n",
            "0.01754385964912286\n",
            "iteration: 47\n",
            "0.01754385964912286\n",
            "iteration: 48\n",
            "0.01754385964912286\n",
            "iteration: 49\n",
            "0.01754385964912286\n",
            "iteration: 50\n",
            "0.01754385964912286\n",
            "iteration: 51\n",
            "0.01754385964912286\n",
            "iteration: 52\n",
            "0.01754385964912286\n",
            "iteration: 53\n",
            "0.01754385964912286\n",
            "iteration: 54\n",
            "0.01754385964912286\n",
            "iteration: 55\n",
            "0.01754385964912286\n",
            "iteration: 56\n",
            "0.01754385964912286\n",
            "iteration: 57\n",
            "0.01754385964912286\n",
            "iteration: 58\n",
            "0.01754385964912286\n",
            "iteration: 59\n",
            "0.01754385964912286\n"
          ]
        }
      ]
    },
    {
      "cell_type": "code",
      "source": [
        "bun.sum()"
      ],
      "metadata": {
        "colab": {
          "base_uri": "https://localhost:8080/"
        },
        "id": "yrFqTz4vZj_5",
        "outputId": "1ca7ac71-f002-4a2e-9b2d-657b830d0cd6"
      },
      "execution_count": null,
      "outputs": [
        {
          "output_type": "execute_result",
          "data": {
            "text/plain": [
              "13"
            ]
          },
          "metadata": {},
          "execution_count": 17
        }
      ]
    },
    {
      "cell_type": "code",
      "source": [
        "selected_features = np.array(X_train)[:,bun]\n",
        "LG_Classifier = LGBMClassifier()\n",
        "LG_Classifier.fit(selected_features, Y_train)"
      ],
      "metadata": {
        "colab": {
          "base_uri": "https://localhost:8080/",
          "height": 75
        },
        "id": "xJQ1zcDFbYzO",
        "outputId": "a26baba9-4068-4e16-8977-3447c584df15"
      },
      "execution_count": null,
      "outputs": [
        {
          "output_type": "execute_result",
          "data": {
            "text/plain": [
              "LGBMClassifier()"
            ],
            "text/html": [
              "<style>#sk-container-id-3 {color: black;background-color: white;}#sk-container-id-3 pre{padding: 0;}#sk-container-id-3 div.sk-toggleable {background-color: white;}#sk-container-id-3 label.sk-toggleable__label {cursor: pointer;display: block;width: 100%;margin-bottom: 0;padding: 0.3em;box-sizing: border-box;text-align: center;}#sk-container-id-3 label.sk-toggleable__label-arrow:before {content: \"▸\";float: left;margin-right: 0.25em;color: #696969;}#sk-container-id-3 label.sk-toggleable__label-arrow:hover:before {color: black;}#sk-container-id-3 div.sk-estimator:hover label.sk-toggleable__label-arrow:before {color: black;}#sk-container-id-3 div.sk-toggleable__content {max-height: 0;max-width: 0;overflow: hidden;text-align: left;background-color: #f0f8ff;}#sk-container-id-3 div.sk-toggleable__content pre {margin: 0.2em;color: black;border-radius: 0.25em;background-color: #f0f8ff;}#sk-container-id-3 input.sk-toggleable__control:checked~div.sk-toggleable__content {max-height: 200px;max-width: 100%;overflow: auto;}#sk-container-id-3 input.sk-toggleable__control:checked~label.sk-toggleable__label-arrow:before {content: \"▾\";}#sk-container-id-3 div.sk-estimator input.sk-toggleable__control:checked~label.sk-toggleable__label {background-color: #d4ebff;}#sk-container-id-3 div.sk-label input.sk-toggleable__control:checked~label.sk-toggleable__label {background-color: #d4ebff;}#sk-container-id-3 input.sk-hidden--visually {border: 0;clip: rect(1px 1px 1px 1px);clip: rect(1px, 1px, 1px, 1px);height: 1px;margin: -1px;overflow: hidden;padding: 0;position: absolute;width: 1px;}#sk-container-id-3 div.sk-estimator {font-family: monospace;background-color: #f0f8ff;border: 1px dotted black;border-radius: 0.25em;box-sizing: border-box;margin-bottom: 0.5em;}#sk-container-id-3 div.sk-estimator:hover {background-color: #d4ebff;}#sk-container-id-3 div.sk-parallel-item::after {content: \"\";width: 100%;border-bottom: 1px solid gray;flex-grow: 1;}#sk-container-id-3 div.sk-label:hover label.sk-toggleable__label {background-color: #d4ebff;}#sk-container-id-3 div.sk-serial::before {content: \"\";position: absolute;border-left: 1px solid gray;box-sizing: border-box;top: 0;bottom: 0;left: 50%;z-index: 0;}#sk-container-id-3 div.sk-serial {display: flex;flex-direction: column;align-items: center;background-color: white;padding-right: 0.2em;padding-left: 0.2em;position: relative;}#sk-container-id-3 div.sk-item {position: relative;z-index: 1;}#sk-container-id-3 div.sk-parallel {display: flex;align-items: stretch;justify-content: center;background-color: white;position: relative;}#sk-container-id-3 div.sk-item::before, #sk-container-id-3 div.sk-parallel-item::before {content: \"\";position: absolute;border-left: 1px solid gray;box-sizing: border-box;top: 0;bottom: 0;left: 50%;z-index: -1;}#sk-container-id-3 div.sk-parallel-item {display: flex;flex-direction: column;z-index: 1;position: relative;background-color: white;}#sk-container-id-3 div.sk-parallel-item:first-child::after {align-self: flex-end;width: 50%;}#sk-container-id-3 div.sk-parallel-item:last-child::after {align-self: flex-start;width: 50%;}#sk-container-id-3 div.sk-parallel-item:only-child::after {width: 0;}#sk-container-id-3 div.sk-dashed-wrapped {border: 1px dashed gray;margin: 0 0.4em 0.5em 0.4em;box-sizing: border-box;padding-bottom: 0.4em;background-color: white;}#sk-container-id-3 div.sk-label label {font-family: monospace;font-weight: bold;display: inline-block;line-height: 1.2em;}#sk-container-id-3 div.sk-label-container {text-align: center;}#sk-container-id-3 div.sk-container {/* jupyter's `normalize.less` sets `[hidden] { display: none; }` but bootstrap.min.css set `[hidden] { display: none !important; }` so we also need the `!important` here to be able to override the default hidden behavior on the sphinx rendered scikit-learn.org. See: https://github.com/scikit-learn/scikit-learn/issues/21755 */display: inline-block !important;position: relative;}#sk-container-id-3 div.sk-text-repr-fallback {display: none;}</style><div id=\"sk-container-id-3\" class=\"sk-top-container\"><div class=\"sk-text-repr-fallback\"><pre>LGBMClassifier()</pre><b>In a Jupyter environment, please rerun this cell to show the HTML representation or trust the notebook. <br />On GitHub, the HTML representation is unable to render, please try loading this page with nbviewer.org.</b></div><div class=\"sk-container\" hidden><div class=\"sk-item\"><div class=\"sk-estimator sk-toggleable\"><input class=\"sk-toggleable__control sk-hidden--visually\" id=\"sk-estimator-id-3\" type=\"checkbox\" checked><label for=\"sk-estimator-id-3\" class=\"sk-toggleable__label sk-toggleable__label-arrow\">LGBMClassifier</label><div class=\"sk-toggleable__content\"><pre>LGBMClassifier()</pre></div></div></div></div></div>"
            ]
          },
          "metadata": {},
          "execution_count": 18
        }
      ]
    },
    {
      "cell_type": "code",
      "source": [
        "accuracy_score(Y_train, LG_Classifier.predict(selected_features))"
      ],
      "metadata": {
        "colab": {
          "base_uri": "https://localhost:8080/"
        },
        "id": "WiFaGwVGbLx0",
        "outputId": "f2e8a16c-a8e5-4292-d4f9-035071349ed3"
      },
      "execution_count": null,
      "outputs": [
        {
          "output_type": "execute_result",
          "data": {
            "text/plain": [
              "0.9956043956043956"
            ]
          },
          "metadata": {},
          "execution_count": 19
        }
      ]
    },
    {
      "cell_type": "code",
      "source": [
        "res=ga_feature_selection(X_train, Y_train, X_test, Y_test, bun.sum())"
      ],
      "metadata": {
        "id": "i4jhthAsbqxQ",
        "colab": {
          "base_uri": "https://localhost:8080/"
        },
        "outputId": "b20b391f-b70d-434a-ddbd-a5a1dbe7fa75"
      },
      "execution_count": null,
      "outputs": [
        {
          "output_type": "stream",
          "name": "stdout",
          "text": [
            "generation: 0\n",
            "generation: 1\n",
            "generation: 2\n",
            "generation: 3\n",
            "generation: 4\n",
            "generation: 5\n",
            "generation: 6\n",
            "generation: 7\n",
            "generation: 8\n",
            "generation: 9\n",
            "generation: 10\n",
            "generation: 11\n",
            "generation: 12\n",
            "generation: 13\n",
            "generation: 14\n",
            "generation: 15\n",
            "generation: 16\n",
            "generation: 17\n",
            "generation: 18\n",
            "generation: 19\n",
            "generation: 20\n",
            "generation: 21\n",
            "generation: 22\n",
            "generation: 23\n",
            "generation: 24\n",
            "generation: 25\n",
            "generation: 26\n",
            "generation: 27\n",
            "generation: 28\n",
            "generation: 29\n",
            "generation: 30\n",
            "generation: 31\n",
            "generation: 32\n",
            "generation: 33\n",
            "generation: 34\n",
            "generation: 35\n",
            "generation: 36\n",
            "generation: 37\n",
            "generation: 38\n",
            "generation: 39\n",
            "generation: 40\n",
            "generation: 41\n",
            "generation: 42\n",
            "generation: 43\n",
            "generation: 44\n",
            "generation: 45\n",
            "generation: 46\n",
            "generation: 47\n",
            "generation: 48\n",
            "generation: 49\n",
            "generation: 50\n",
            "generation: 51\n",
            "generation: 52\n",
            "generation: 53\n",
            "generation: 54\n",
            "generation: 55\n",
            "generation: 56\n",
            "generation: 57\n",
            "generation: 58\n",
            "generation: 59\n",
            "generation: 60\n",
            "generation: 61\n",
            "generation: 62\n",
            "generation: 63\n",
            "generation: 64\n",
            "generation: 65\n",
            "generation: 66\n",
            "generation: 67\n",
            "generation: 68\n",
            "generation: 69\n",
            "generation: 70\n",
            "generation: 71\n",
            "generation: 72\n",
            "generation: 73\n",
            "generation: 74\n",
            "generation: 75\n",
            "generation: 76\n",
            "generation: 77\n",
            "generation: 78\n",
            "generation: 79\n",
            "generation: 80\n",
            "generation: 81\n",
            "generation: 82\n",
            "generation: 83\n",
            "generation: 84\n",
            "generation: 85\n",
            "generation: 86\n",
            "generation: 87\n",
            "generation: 88\n",
            "generation: 89\n",
            "generation: 90\n",
            "generation: 91\n",
            "generation: 92\n",
            "generation: 93\n",
            "generation: 94\n",
            "generation: 95\n",
            "generation: 96\n",
            "generation: 97\n",
            "generation: 98\n",
            "generation: 99\n"
          ]
        }
      ]
    },
    {
      "cell_type": "code",
      "source": [
        "res"
      ],
      "metadata": {
        "id": "cnhe0HEKJ6hm",
        "colab": {
          "base_uri": "https://localhost:8080/"
        },
        "outputId": "0fc74691-7e50-4965-abff-5fff86e3120c"
      },
      "execution_count": null,
      "outputs": [
        {
          "output_type": "execute_result",
          "data": {
            "text/plain": [
              "array(['area_mean', 'area_worst', 'compactness_mean', 'compactness_worst',\n",
              "       'concave points_se', 'id', 'perimeter_se', 'perimeter_worst',\n",
              "       'radius_mean', 'radius_se', 'radius_worst', 'smoothness_se',\n",
              "       'texture_worst'], dtype=object)"
            ]
          },
          "metadata": {},
          "execution_count": 30
        }
      ]
    },
    {
      "cell_type": "code",
      "source": [
        "selected_features = X_train[res]\n",
        "LG_Classifier = LGBMClassifier()\n",
        "LG_Classifier.fit(selected_features, Y_train)"
      ],
      "metadata": {
        "colab": {
          "base_uri": "https://localhost:8080/",
          "height": 75
        },
        "id": "_1LoZFFBJ04H",
        "outputId": "b784387d-42e7-420a-c1ad-1c1a78c2b99f"
      },
      "execution_count": null,
      "outputs": [
        {
          "output_type": "execute_result",
          "data": {
            "text/plain": [
              "LGBMClassifier()"
            ],
            "text/html": [
              "<style>#sk-container-id-5 {color: black;background-color: white;}#sk-container-id-5 pre{padding: 0;}#sk-container-id-5 div.sk-toggleable {background-color: white;}#sk-container-id-5 label.sk-toggleable__label {cursor: pointer;display: block;width: 100%;margin-bottom: 0;padding: 0.3em;box-sizing: border-box;text-align: center;}#sk-container-id-5 label.sk-toggleable__label-arrow:before {content: \"▸\";float: left;margin-right: 0.25em;color: #696969;}#sk-container-id-5 label.sk-toggleable__label-arrow:hover:before {color: black;}#sk-container-id-5 div.sk-estimator:hover label.sk-toggleable__label-arrow:before {color: black;}#sk-container-id-5 div.sk-toggleable__content {max-height: 0;max-width: 0;overflow: hidden;text-align: left;background-color: #f0f8ff;}#sk-container-id-5 div.sk-toggleable__content pre {margin: 0.2em;color: black;border-radius: 0.25em;background-color: #f0f8ff;}#sk-container-id-5 input.sk-toggleable__control:checked~div.sk-toggleable__content {max-height: 200px;max-width: 100%;overflow: auto;}#sk-container-id-5 input.sk-toggleable__control:checked~label.sk-toggleable__label-arrow:before {content: \"▾\";}#sk-container-id-5 div.sk-estimator input.sk-toggleable__control:checked~label.sk-toggleable__label {background-color: #d4ebff;}#sk-container-id-5 div.sk-label input.sk-toggleable__control:checked~label.sk-toggleable__label {background-color: #d4ebff;}#sk-container-id-5 input.sk-hidden--visually {border: 0;clip: rect(1px 1px 1px 1px);clip: rect(1px, 1px, 1px, 1px);height: 1px;margin: -1px;overflow: hidden;padding: 0;position: absolute;width: 1px;}#sk-container-id-5 div.sk-estimator {font-family: monospace;background-color: #f0f8ff;border: 1px dotted black;border-radius: 0.25em;box-sizing: border-box;margin-bottom: 0.5em;}#sk-container-id-5 div.sk-estimator:hover {background-color: #d4ebff;}#sk-container-id-5 div.sk-parallel-item::after {content: \"\";width: 100%;border-bottom: 1px solid gray;flex-grow: 1;}#sk-container-id-5 div.sk-label:hover label.sk-toggleable__label {background-color: #d4ebff;}#sk-container-id-5 div.sk-serial::before {content: \"\";position: absolute;border-left: 1px solid gray;box-sizing: border-box;top: 0;bottom: 0;left: 50%;z-index: 0;}#sk-container-id-5 div.sk-serial {display: flex;flex-direction: column;align-items: center;background-color: white;padding-right: 0.2em;padding-left: 0.2em;position: relative;}#sk-container-id-5 div.sk-item {position: relative;z-index: 1;}#sk-container-id-5 div.sk-parallel {display: flex;align-items: stretch;justify-content: center;background-color: white;position: relative;}#sk-container-id-5 div.sk-item::before, #sk-container-id-5 div.sk-parallel-item::before {content: \"\";position: absolute;border-left: 1px solid gray;box-sizing: border-box;top: 0;bottom: 0;left: 50%;z-index: -1;}#sk-container-id-5 div.sk-parallel-item {display: flex;flex-direction: column;z-index: 1;position: relative;background-color: white;}#sk-container-id-5 div.sk-parallel-item:first-child::after {align-self: flex-end;width: 50%;}#sk-container-id-5 div.sk-parallel-item:last-child::after {align-self: flex-start;width: 50%;}#sk-container-id-5 div.sk-parallel-item:only-child::after {width: 0;}#sk-container-id-5 div.sk-dashed-wrapped {border: 1px dashed gray;margin: 0 0.4em 0.5em 0.4em;box-sizing: border-box;padding-bottom: 0.4em;background-color: white;}#sk-container-id-5 div.sk-label label {font-family: monospace;font-weight: bold;display: inline-block;line-height: 1.2em;}#sk-container-id-5 div.sk-label-container {text-align: center;}#sk-container-id-5 div.sk-container {/* jupyter's `normalize.less` sets `[hidden] { display: none; }` but bootstrap.min.css set `[hidden] { display: none !important; }` so we also need the `!important` here to be able to override the default hidden behavior on the sphinx rendered scikit-learn.org. See: https://github.com/scikit-learn/scikit-learn/issues/21755 */display: inline-block !important;position: relative;}#sk-container-id-5 div.sk-text-repr-fallback {display: none;}</style><div id=\"sk-container-id-5\" class=\"sk-top-container\"><div class=\"sk-text-repr-fallback\"><pre>LGBMClassifier()</pre><b>In a Jupyter environment, please rerun this cell to show the HTML representation or trust the notebook. <br />On GitHub, the HTML representation is unable to render, please try loading this page with nbviewer.org.</b></div><div class=\"sk-container\" hidden><div class=\"sk-item\"><div class=\"sk-estimator sk-toggleable\"><input class=\"sk-toggleable__control sk-hidden--visually\" id=\"sk-estimator-id-5\" type=\"checkbox\" checked><label for=\"sk-estimator-id-5\" class=\"sk-toggleable__label sk-toggleable__label-arrow\">LGBMClassifier</label><div class=\"sk-toggleable__content\"><pre>LGBMClassifier()</pre></div></div></div></div></div>"
            ]
          },
          "metadata": {},
          "execution_count": 31
        }
      ]
    },
    {
      "cell_type": "markdown",
      "source": [
        "# **Train Accuracy of Hybrid !**"
      ],
      "metadata": {
        "id": "j6Ybi40fKhSL"
      }
    },
    {
      "cell_type": "code",
      "source": [
        "accuracy_score(Y_train, LG_Classifier.predict(selected_features))"
      ],
      "metadata": {
        "id": "htAJbqI55gdY",
        "outputId": "7e1908ab-72f6-4239-9f5e-ae1d58045514",
        "colab": {
          "base_uri": "https://localhost:8080/"
        }
      },
      "execution_count": null,
      "outputs": [
        {
          "output_type": "execute_result",
          "data": {
            "text/plain": [
              "1.0"
            ]
          },
          "metadata": {},
          "execution_count": 32
        }
      ]
    },
    {
      "cell_type": "code",
      "source": [
        "print(classification_report(Y_train, LG_Classifier.predict(selected_features)))"
      ],
      "metadata": {
        "id": "QABHUoIN5iLw",
        "outputId": "d3a36307-fdd8-4942-de69-d0d2eeb86d4c",
        "colab": {
          "base_uri": "https://localhost:8080/"
        }
      },
      "execution_count": null,
      "outputs": [
        {
          "output_type": "stream",
          "name": "stdout",
          "text": [
            "              precision    recall  f1-score   support\n",
            "\n",
            "           0       1.00      1.00      1.00       283\n",
            "           1       1.00      1.00      1.00       172\n",
            "\n",
            "    accuracy                           1.00       455\n",
            "   macro avg       1.00      1.00      1.00       455\n",
            "weighted avg       1.00      1.00      1.00       455\n",
            "\n"
          ]
        }
      ]
    },
    {
      "cell_type": "code",
      "source": [
        "tn, fp, fn, tp = confusion_matrix(Y_train, LG_Classifier.predict(selected_features), labels=[0,1]).ravel()\n",
        "(tn, fp, fn, tp)"
      ],
      "metadata": {
        "id": "gM_3LHcp5n65",
        "outputId": "5ad1a566-d5d1-42ec-d7d6-430cc388137f",
        "colab": {
          "base_uri": "https://localhost:8080/"
        }
      },
      "execution_count": null,
      "outputs": [
        {
          "output_type": "execute_result",
          "data": {
            "text/plain": [
              "(283, 0, 0, 172)"
            ]
          },
          "metadata": {},
          "execution_count": 34
        }
      ]
    },
    {
      "cell_type": "markdown",
      "source": [
        "# **Test Accuracy of Hybrid !**"
      ],
      "metadata": {
        "id": "bXCbmcvf6HEI"
      }
    },
    {
      "cell_type": "code",
      "source": [
        "selected_features_test =  X_test[res]\n",
        "accuracy_score(Y_test, LG_Classifier.predict(selected_features_test))"
      ],
      "metadata": {
        "colab": {
          "base_uri": "https://localhost:8080/"
        },
        "id": "BQJsqKkCbfkU",
        "outputId": "3a720ba3-31c8-4dbc-b62d-e72f53aa1e59"
      },
      "execution_count": null,
      "outputs": [
        {
          "output_type": "execute_result",
          "data": {
            "text/plain": [
              "1.0"
            ]
          },
          "metadata": {},
          "execution_count": 35
        }
      ]
    },
    {
      "cell_type": "code",
      "source": [],
      "metadata": {
        "id": "fcQC9gu-cKtl"
      },
      "execution_count": null,
      "outputs": []
    },
    {
      "cell_type": "code",
      "source": [
        "print(classification_report(Y_test, LG_Classifier.predict(selected_features_test)))"
      ],
      "metadata": {
        "colab": {
          "base_uri": "https://localhost:8080/"
        },
        "id": "oGkXTAqpi8Dg",
        "outputId": "1352cd84-c655-414a-c1dc-718667c1e1a1"
      },
      "execution_count": null,
      "outputs": [
        {
          "output_type": "stream",
          "name": "stdout",
          "text": [
            "              precision    recall  f1-score   support\n",
            "\n",
            "           0       1.00      1.00      1.00        74\n",
            "           1       1.00      1.00      1.00        40\n",
            "\n",
            "    accuracy                           1.00       114\n",
            "   macro avg       1.00      1.00      1.00       114\n",
            "weighted avg       1.00      1.00      1.00       114\n",
            "\n"
          ]
        }
      ]
    },
    {
      "cell_type": "code",
      "source": [
        "tn, fp, fn, tp = confusion_matrix(Y_test, LG_Classifier.predict(selected_features_test), labels=[0,1]).ravel()\n",
        "(tn, fp, fn, tp)"
      ],
      "metadata": {
        "colab": {
          "base_uri": "https://localhost:8080/"
        },
        "id": "lYdVKTa8u4XU",
        "outputId": "8c1f3206-e007-466d-feaa-9c04c75bf360"
      },
      "execution_count": null,
      "outputs": [
        {
          "output_type": "execute_result",
          "data": {
            "text/plain": [
              "(74, 0, 0, 40)"
            ]
          },
          "metadata": {},
          "execution_count": 37
        }
      ]
    },
    {
      "cell_type": "markdown",
      "source": [
        "# **New**"
      ],
      "metadata": {
        "id": "lHBkhKgeN3F5"
      }
    },
    {
      "cell_type": "code",
      "source": [],
      "metadata": {
        "id": "yMNBJZLfk8ee"
      },
      "execution_count": null,
      "outputs": []
    },
    {
      "cell_type": "code",
      "source": [
        "bun=fpa_feature_selection(X_train, Y_train, X_test, Y_test)\n",
        "selected_features = np.array(X_train)[:,bun]\n",
        "LG_Classifier = LGBMClassifier()\n",
        "LG_Classifier.fit(selected_features, Y_train)"
      ],
      "metadata": {
        "colab": {
          "base_uri": "https://localhost:8080/",
          "height": 1000
        },
        "id": "z1LMuWzucO4h",
        "outputId": "4f91827c-292c-452d-e5ef-1b94005874ec"
      },
      "execution_count": null,
      "outputs": [
        {
          "output_type": "stream",
          "name": "stdout",
          "text": [
            "iteration: 0\n",
            "iteration: 1\n",
            "iteration: 2\n",
            "iteration: 3\n",
            "iteration: 4\n",
            "iteration: 5\n",
            "iteration: 6\n",
            "iteration: 7\n",
            "iteration: 8\n",
            "iteration: 9\n",
            "iteration: 10\n",
            "iteration: 11\n",
            "iteration: 12\n",
            "iteration: 13\n",
            "iteration: 14\n",
            "iteration: 15\n",
            "iteration: 16\n",
            "iteration: 17\n",
            "iteration: 18\n",
            "iteration: 19\n",
            "iteration: 20\n",
            "iteration: 21\n",
            "iteration: 22\n",
            "iteration: 23\n",
            "iteration: 24\n",
            "iteration: 25\n",
            "iteration: 26\n",
            "iteration: 27\n",
            "iteration: 28\n",
            "iteration: 29\n",
            "iteration: 30\n",
            "iteration: 31\n",
            "iteration: 32\n",
            "iteration: 33\n",
            "iteration: 34\n",
            "iteration: 35\n",
            "iteration: 36\n",
            "iteration: 37\n",
            "iteration: 38\n",
            "iteration: 39\n",
            "iteration: 40\n",
            "iteration: 41\n",
            "iteration: 42\n",
            "iteration: 43\n",
            "iteration: 44\n",
            "iteration: 45\n",
            "iteration: 46\n",
            "iteration: 47\n",
            "iteration: 48\n",
            "iteration: 49\n",
            "iteration: 50\n",
            "iteration: 51\n",
            "iteration: 52\n",
            "iteration: 53\n",
            "iteration: 54\n",
            "iteration: 55\n",
            "iteration: 56\n",
            "iteration: 57\n",
            "iteration: 58\n",
            "iteration: 59\n"
          ]
        },
        {
          "output_type": "execute_result",
          "data": {
            "text/plain": [
              "LGBMClassifier()"
            ],
            "text/html": [
              "<style>#sk-container-id-6 {color: black;background-color: white;}#sk-container-id-6 pre{padding: 0;}#sk-container-id-6 div.sk-toggleable {background-color: white;}#sk-container-id-6 label.sk-toggleable__label {cursor: pointer;display: block;width: 100%;margin-bottom: 0;padding: 0.3em;box-sizing: border-box;text-align: center;}#sk-container-id-6 label.sk-toggleable__label-arrow:before {content: \"▸\";float: left;margin-right: 0.25em;color: #696969;}#sk-container-id-6 label.sk-toggleable__label-arrow:hover:before {color: black;}#sk-container-id-6 div.sk-estimator:hover label.sk-toggleable__label-arrow:before {color: black;}#sk-container-id-6 div.sk-toggleable__content {max-height: 0;max-width: 0;overflow: hidden;text-align: left;background-color: #f0f8ff;}#sk-container-id-6 div.sk-toggleable__content pre {margin: 0.2em;color: black;border-radius: 0.25em;background-color: #f0f8ff;}#sk-container-id-6 input.sk-toggleable__control:checked~div.sk-toggleable__content {max-height: 200px;max-width: 100%;overflow: auto;}#sk-container-id-6 input.sk-toggleable__control:checked~label.sk-toggleable__label-arrow:before {content: \"▾\";}#sk-container-id-6 div.sk-estimator input.sk-toggleable__control:checked~label.sk-toggleable__label {background-color: #d4ebff;}#sk-container-id-6 div.sk-label input.sk-toggleable__control:checked~label.sk-toggleable__label {background-color: #d4ebff;}#sk-container-id-6 input.sk-hidden--visually {border: 0;clip: rect(1px 1px 1px 1px);clip: rect(1px, 1px, 1px, 1px);height: 1px;margin: -1px;overflow: hidden;padding: 0;position: absolute;width: 1px;}#sk-container-id-6 div.sk-estimator {font-family: monospace;background-color: #f0f8ff;border: 1px dotted black;border-radius: 0.25em;box-sizing: border-box;margin-bottom: 0.5em;}#sk-container-id-6 div.sk-estimator:hover {background-color: #d4ebff;}#sk-container-id-6 div.sk-parallel-item::after {content: \"\";width: 100%;border-bottom: 1px solid gray;flex-grow: 1;}#sk-container-id-6 div.sk-label:hover label.sk-toggleable__label {background-color: #d4ebff;}#sk-container-id-6 div.sk-serial::before {content: \"\";position: absolute;border-left: 1px solid gray;box-sizing: border-box;top: 0;bottom: 0;left: 50%;z-index: 0;}#sk-container-id-6 div.sk-serial {display: flex;flex-direction: column;align-items: center;background-color: white;padding-right: 0.2em;padding-left: 0.2em;position: relative;}#sk-container-id-6 div.sk-item {position: relative;z-index: 1;}#sk-container-id-6 div.sk-parallel {display: flex;align-items: stretch;justify-content: center;background-color: white;position: relative;}#sk-container-id-6 div.sk-item::before, #sk-container-id-6 div.sk-parallel-item::before {content: \"\";position: absolute;border-left: 1px solid gray;box-sizing: border-box;top: 0;bottom: 0;left: 50%;z-index: -1;}#sk-container-id-6 div.sk-parallel-item {display: flex;flex-direction: column;z-index: 1;position: relative;background-color: white;}#sk-container-id-6 div.sk-parallel-item:first-child::after {align-self: flex-end;width: 50%;}#sk-container-id-6 div.sk-parallel-item:last-child::after {align-self: flex-start;width: 50%;}#sk-container-id-6 div.sk-parallel-item:only-child::after {width: 0;}#sk-container-id-6 div.sk-dashed-wrapped {border: 1px dashed gray;margin: 0 0.4em 0.5em 0.4em;box-sizing: border-box;padding-bottom: 0.4em;background-color: white;}#sk-container-id-6 div.sk-label label {font-family: monospace;font-weight: bold;display: inline-block;line-height: 1.2em;}#sk-container-id-6 div.sk-label-container {text-align: center;}#sk-container-id-6 div.sk-container {/* jupyter's `normalize.less` sets `[hidden] { display: none; }` but bootstrap.min.css set `[hidden] { display: none !important; }` so we also need the `!important` here to be able to override the default hidden behavior on the sphinx rendered scikit-learn.org. See: https://github.com/scikit-learn/scikit-learn/issues/21755 */display: inline-block !important;position: relative;}#sk-container-id-6 div.sk-text-repr-fallback {display: none;}</style><div id=\"sk-container-id-6\" class=\"sk-top-container\"><div class=\"sk-text-repr-fallback\"><pre>LGBMClassifier()</pre><b>In a Jupyter environment, please rerun this cell to show the HTML representation or trust the notebook. <br />On GitHub, the HTML representation is unable to render, please try loading this page with nbviewer.org.</b></div><div class=\"sk-container\" hidden><div class=\"sk-item\"><div class=\"sk-estimator sk-toggleable\"><input class=\"sk-toggleable__control sk-hidden--visually\" id=\"sk-estimator-id-6\" type=\"checkbox\" checked><label for=\"sk-estimator-id-6\" class=\"sk-toggleable__label sk-toggleable__label-arrow\">LGBMClassifier</label><div class=\"sk-toggleable__content\"><pre>LGBMClassifier()</pre></div></div></div></div></div>"
            ]
          },
          "metadata": {},
          "execution_count": 77
        }
      ]
    },
    {
      "cell_type": "code",
      "source": [
        "accuracy_score(Y_train, LG_Classifier.predict(selected_features))"
      ],
      "metadata": {
        "colab": {
          "base_uri": "https://localhost:8080/"
        },
        "id": "5QWZj6mYlDZv",
        "outputId": "0bd395d9-eed8-47e6-be98-126360c2b3f3"
      },
      "execution_count": null,
      "outputs": [
        {
          "output_type": "execute_result",
          "data": {
            "text/plain": [
              "1.0"
            ]
          },
          "metadata": {},
          "execution_count": 81
        }
      ]
    },
    {
      "cell_type": "code",
      "source": [
        "selected_features_test =  np.array(X_test)[:,bun]\n",
        "accuracy_score(Y_test, LG_Classifier.predict(selected_features_test))"
      ],
      "metadata": {
        "colab": {
          "base_uri": "https://localhost:8080/"
        },
        "id": "3EwQvwVKpdW_",
        "outputId": "059774a8-3c72-41a4-a004-7294d6f1a85d"
      },
      "execution_count": null,
      "outputs": [
        {
          "output_type": "execute_result",
          "data": {
            "text/plain": [
              "1.0"
            ]
          },
          "metadata": {},
          "execution_count": 82
        }
      ]
    },
    {
      "cell_type": "code",
      "source": [
        "res=ga_feature_selection(X_train, Y_train, X_test, Y_test, bun.sum())"
      ],
      "metadata": {
        "id": "VWqfnslBpkKX"
      },
      "execution_count": null,
      "outputs": []
    },
    {
      "cell_type": "code",
      "source": [
        "selected_features = X_train[res]\n",
        "LG_Classifier = LGBMClassifier()\n",
        "LG_Classifier.fit(selected_features, Y_train)"
      ],
      "metadata": {
        "id": "lSXxw-9805dr"
      },
      "execution_count": null,
      "outputs": []
    },
    {
      "cell_type": "code",
      "source": [
        "selected_features_test =  X_test[res]\n",
        "accuracy_score(Y_test, LG_Classifier.predict(selected_features_test))"
      ],
      "metadata": {
        "id": "CNjqEfZh3TA5"
      },
      "execution_count": null,
      "outputs": []
    },
    {
      "cell_type": "code",
      "source": [
        "accuracy_score(Y_train, LG_Classifier.predict(selected_features))"
      ],
      "metadata": {
        "id": "dvfoxr5O3_8W"
      },
      "execution_count": null,
      "outputs": []
    },
    {
      "cell_type": "code",
      "source": [
        "ch1[0:ch1_unique.shape[0]]=ch1_unique"
      ],
      "metadata": {
        "id": "U6zNu8Vj4RZZ"
      },
      "execution_count": null,
      "outputs": []
    },
    {
      "cell_type": "code",
      "source": [
        "ch1"
      ],
      "metadata": {
        "colab": {
          "base_uri": "https://localhost:8080/"
        },
        "id": "zBTyBSq_6NnN",
        "outputId": "eca80be6-8897-4fcc-e326-1d049c147a1d"
      },
      "execution_count": null,
      "outputs": [
        {
          "output_type": "execute_result",
          "data": {
            "text/plain": [
              "array([1, 2, 3, 4, 5, 6, 1, 5])"
            ]
          },
          "metadata": {},
          "execution_count": 168
        }
      ]
    },
    {
      "cell_type": "code",
      "source": [],
      "metadata": {
        "id": "wpO59bMv81VB"
      },
      "execution_count": null,
      "outputs": []
    }
  ]
}